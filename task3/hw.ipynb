{
 "cells": [
  {
   "cell_type": "markdown",
   "source": [
    "# Task 3 - Decision tree and random forest"
   ],
   "metadata": {}
  },
  {
   "cell_type": "markdown",
   "source": [
    "## Импорт необходимых модулей"
   ],
   "metadata": {}
  },
  {
   "cell_type": "code",
   "execution_count": 1,
   "source": [
    "import numpy as np\r\n",
    "import sklearn\r\n",
    "import pandas as pd\r\n",
    "import pickle\r\n",
    "import matplotlib.pyplot as plt\r\n",
    "from sklearn.model_selection import train_test_split\r\n",
    "from sklearn.tree import DecisionTreeClassifier"
   ],
   "outputs": [],
   "metadata": {}
  },
  {
   "cell_type": "markdown",
   "source": [
    "## Загрузка наших данных (усеченные данные - первые 1000 строк из первоначальных данных)"
   ],
   "metadata": {}
  },
  {
   "cell_type": "code",
   "execution_count": 2,
   "source": [
    "data = pd.read_csv(\"adult_cut_1000.csv\", sep=';')"
   ],
   "outputs": [],
   "metadata": {}
  },
  {
   "cell_type": "markdown",
   "source": [
    "## Определяем таблицу из столбцов, участвующих в обучении. Также приводим к типу int наши целевые классы "
   ],
   "metadata": {}
  },
  {
   "cell_type": "code",
   "execution_count": 3,
   "source": [
    "work_data = data[['Age', ' fnlwgt', ' education_num', ' capital-gain', ' capital-loss', ' hours-per-week', ' classes']]\r\n",
    "\r\n",
    "\r\n",
    "work_data[' classes'] = (work_data[' classes'] == \" <=50K\").astype('int64')\r\n"
   ],
   "outputs": [
    {
     "output_type": "stream",
     "name": "stderr",
     "text": [
      "<ipython-input-3-9437083652f3>:4: SettingWithCopyWarning: \n",
      "A value is trying to be set on a copy of a slice from a DataFrame.\n",
      "Try using .loc[row_indexer,col_indexer] = value instead\n",
      "\n",
      "See the caveats in the documentation: https://pandas.pydata.org/pandas-docs/stable/user_guide/indexing.html#returning-a-view-versus-a-copy\n",
      "  work_data[' classes'] = (work_data[' classes'] == \" <=50K\").astype('int64')\n"
     ]
    }
   ],
   "metadata": {}
  },
  {
   "cell_type": "markdown",
   "source": [
    "## Разбивка данных по признакам (X) и классам (y)"
   ],
   "metadata": {}
  },
  {
   "cell_type": "code",
   "execution_count": 4,
   "source": [
    "X = work_data.drop([' classes'], axis=1)\r\n",
    "y = work_data[' classes']"
   ],
   "outputs": [],
   "metadata": {}
  },
  {
   "cell_type": "markdown",
   "source": [
    "## Разбивка на обучающую (train) и тестовые (test) данные"
   ],
   "metadata": {}
  },
  {
   "cell_type": "code",
   "execution_count": 5,
   "source": [
    "X_train, X_test, y_train, y_test = train_test_split(X, y, test_size=0.33, random_state=42)\r\n",
    "X_train_my_tree, X_test_my_tree = X_train.to_numpy(), X_test.to_numpy()\r\n",
    "y_train_my_tree, y_test_my_tree = y_train.to_numpy(), y_test.to_numpy()"
   ],
   "outputs": [],
   "metadata": {}
  },
  {
   "cell_type": "markdown",
   "source": [
    "## Определение моего решающего дерева"
   ],
   "metadata": {}
  },
  {
   "cell_type": "code",
   "execution_count": 6,
   "source": [
    "from decision_tree import MyDecisionTree\r\n",
    "\r\n",
    "my_dec_tree = MyDecisionTree(max_deep=6, min_size=18)\r\n",
    "root_train = my_dec_tree.fit_data(X_train_my_tree, y_train_my_tree)\r\n"
   ],
   "outputs": [],
   "metadata": {}
  },
  {
   "cell_type": "code",
   "execution_count": 7,
   "source": [
    "predictions = my_dec_tree.predict_data(X_test_my_tree)\r\n",
    "accuracy = np.sum(predictions == y_test_my_tree) / len(predictions)\r\n",
    "\r\n",
    "print(\"accuracy_my_tree = \", accuracy)"
   ],
   "outputs": [
    {
     "output_type": "stream",
     "name": "stdout",
     "text": [
      "accuracy_my_tree =  0.8212121212121212\n"
     ]
    }
   ],
   "metadata": {}
  },
  {
   "cell_type": "markdown",
   "source": [
    "## Определение Decision tree с помощью sklearn.tree: обучение и тестирование"
   ],
   "metadata": {}
  },
  {
   "cell_type": "code",
   "execution_count": 8,
   "source": [
    "tree_from_sklearn = DecisionTreeClassifier(max_depth=5, criterion='gini', random_state=42)\r\n",
    "tree_from_sklearn.fit(X_train, y_train)"
   ],
   "outputs": [
    {
     "output_type": "execute_result",
     "data": {
      "text/plain": [
       "DecisionTreeClassifier(max_depth=5, random_state=42)"
      ]
     },
     "metadata": {},
     "execution_count": 8
    }
   ],
   "metadata": {}
  },
  {
   "cell_type": "code",
   "execution_count": 9,
   "source": [
    "predict = tree_from_sklearn.predict(X_test)\r\n",
    "accuracy = sum(predict == y_test) / len(predict)\r\n",
    "\r\n",
    "print(\"accuracy_sklearn_tree = \", accuracy)"
   ],
   "outputs": [
    {
     "output_type": "stream",
     "name": "stdout",
     "text": [
      "accuracy_sklearn_tree =  0.8181818181818182\n"
     ]
    }
   ],
   "metadata": {}
  },
  {
   "cell_type": "markdown",
   "source": [
    "## Случайное дерево (random forest) и оценка OOB"
   ],
   "metadata": {}
  },
  {
   "cell_type": "code",
   "execution_count": 10,
   "source": [
    "from sklearn.ensemble import RandomForestClassifier\r\n",
    "rf = RandomForestClassifier(n_estimators=100, max_depth=5, criterion='gini', random_state=42)\r\n"
   ],
   "outputs": [],
   "metadata": {}
  },
  {
   "cell_type": "markdown",
   "source": [
    "## Обучение и тестирование"
   ],
   "metadata": {}
  },
  {
   "cell_type": "code",
   "execution_count": 11,
   "source": [
    "rf.fit(X_train, y_train)\r\n",
    "predict_rf = rf.predict(X_test)\r\n",
    "accuracy = sum(predict_rf == y_test) / len(predict)\r\n",
    "\r\n",
    "print('accuracy_sklearn_rf = ', accuracy)"
   ],
   "outputs": [
    {
     "output_type": "stream",
     "name": "stdout",
     "text": [
      "accuracy_sklearn_rf =  0.8242424242424242\n"
     ]
    }
   ],
   "metadata": {}
  },
  {
   "cell_type": "code",
   "execution_count": 12,
   "source": [
    "from collections import OrderedDict\r\n",
    "from sklearn.datasets import make_classification\r\n",
    "import warnings\r\n",
    "warnings.filterwarnings('ignore')\r\n",
    "\r\n",
    "ensemble_clfs = [\r\n",
    "    (\"RandomForestClassifier, max_features='log2'\",\r\n",
    "        RandomForestClassifier(warm_start=True, max_features='log2',\r\n",
    "                               oob_score=True, random_state=42)),\r\n",
    "    (\"RandomForestClassifier, max_features=None\",\r\n",
    "        RandomForestClassifier(warm_start=True, max_features=None,\r\n",
    "                               oob_score=True, random_state=42)) ]\r\n",
    "\r\n",
    "\r\n",
    "error_rate = OrderedDict((label, []) for label, _ in ensemble_clfs)\r\n",
    "\r\n",
    "min_estimators = 15\r\n",
    "max_estimators = 175\r\n",
    "\r\n",
    "for label, clf in ensemble_clfs:\r\n",
    "    for i in range(min_estimators, max_estimators + 1):\r\n",
    "        clf.set_params(n_estimators=i)\r\n",
    "        clf.fit(X_train, y_train)\r\n",
    "\r\n",
    "        oob_error = 1 - clf.oob_score_\r\n",
    "        error_rate[label].append((i, oob_error))\r\n",
    "\r\n",
    "for label, clf_err in error_rate.items():\r\n",
    "    xs, ys = zip(*clf_err)\r\n",
    "    plt.plot(xs, ys, label=label)\r\n",
    "\r\n",
    "plt.xlim(min_estimators, max_estimators)\r\n",
    "plt.xlabel(\"n_estimators\")\r\n",
    "plt.ylabel(\"OOB error rate\")\r\n",
    "plt.legend(loc=\"upper right\")\r\n",
    "plt.show()"
   ],
   "outputs": [
    {
     "output_type": "display_data",
     "data": {
      "image/png": "[encoded data removed]",
      "text/plain": [
       "<Figure size 432x288 with 1 Axes>"
      ]
     },
     "metadata": {
      "needs_background": "light"
     }
    }
   ],
   "metadata": {}
  },
  {
   "cell_type": "code",
   "execution_count": null,
   "source": [],
   "outputs": [],
   "metadata": {}
  }
 ],
 "metadata": {
  "orig_nbformat": 4,
  "language_info": {
   "name": "python",
   "version": "3.8.5",
   "mimetype": "text/x-python",
   "codemirror_mode": {
    "name": "ipython",
    "version": 3
   },
   "pygments_lexer": "ipython3",
   "nbconvert_exporter": "python",
   "file_extension": ".py"
  },
  "kernelspec": {
   "name": "python3",
   "display_name": "Python 3.8.5 64-bit (system)"
  },
  "interpreter": {
   "hash": "63935a4ebb5f63c50eee506acd6e5a674a9a7ecdbc5bf1518389696c4a80f62e"
  }
 },
 "nbformat": 4,
 "nbformat_minor": 2
}