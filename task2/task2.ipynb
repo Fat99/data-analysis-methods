{
 "cells": [
  {
   "cell_type": "code",
   "execution_count": 1,
   "source": [
    "import numpy as np\r\n",
    "import torch as T\r\n",
    "import pandas as pd\r\n",
    "\r\n",
    "device = 'cpu'"
   ],
   "outputs": [],
   "metadata": {}
  },
  {
   "cell_type": "markdown",
   "source": [
    "### Обрабатываем данные и попутно удаляем оттуда элементы типа NaN  истороковые значения"
   ],
   "metadata": {}
  },
  {
   "cell_type": "code",
   "execution_count": 2,
   "source": [
    "data = pd.read_csv('Shanghai_HMT_2010.csv')\r\n",
    "data = data.dropna() \r\n",
    "data = data.drop(['cbwd'], axis=1)"
   ],
   "outputs": [],
   "metadata": {}
  },
  {
   "cell_type": "markdown",
   "source": [
    "### Проведем нормализацию данных"
   ],
   "metadata": {}
  },
  {
   "cell_type": "code",
   "execution_count": 3,
   "source": [
    "data = (data - data.mean()) / data.std()"
   ],
   "outputs": [],
   "metadata": {}
  },
  {
   "cell_type": "markdown",
   "source": [
    "### Разбиение давления из data по среднему значение (mediana). Больше - присваивается индекс 1, меньше - индекс 0"
   ],
   "metadata": {}
  },
  {
   "cell_type": "code",
   "execution_count": 4,
   "source": [
    "pres_median = data['PRES'].median()\r\n",
    "data['PRES'] = (data['PRES'] > pres_median).astype('int64')\r\n"
   ],
   "outputs": [],
   "metadata": {}
  },
  {
   "cell_type": "markdown",
   "source": [
    "## Проведем сравнение работы метода из sklearn и нашего собственного класса\r\n",
    "### Начнем с sklearn"
   ],
   "metadata": {}
  },
  {
   "cell_type": "code",
   "execution_count": 5,
   "source": [
    "from sklearn.model_selection import train_test_split\r\n",
    "from sklearn.linear_model import LogisticRegression\r\n",
    "from sklearn.metrics import mean_squared_error\r\n",
    "\r\n",
    "x = data.drop(['PRES'], axis=1)\r\n",
    "y = data['PRES']\r\n",
    "\r\n",
    "# установим random_state, чтобы результаты эксперимента были воспроизводимы\r\n",
    "x_train, x_test, y_train, y_test = train_test_split(x, y, test_size=0.33, random_state=42)\r\n",
    "\r\n",
    "model = LogisticRegression()\r\n",
    "\r\n",
    "# обучение\r\n",
    "model.fit(x_train, y_train)\r\n",
    "\r\n",
    "# предсказание\r\n",
    "predictions_lr = model.predict(x_test)\r\n",
    "\r\n",
    "# ошибка\r\n",
    "error_sklearn = mean_squared_error(predictions_lr, y_test)\r\n",
    "print(\"mean_squared_error_sklearn =\", error_sklearn)"
   ],
   "outputs": [
    {
     "output_type": "stream",
     "name": "stdout",
     "text": [
      "mean_squared_error_sklearn = 0.07789086796720385\n"
     ]
    }
   ],
   "metadata": {}
  },
  {
   "cell_type": "markdown",
   "source": [
    "### Теперь разберем наш класс"
   ],
   "metadata": {}
  },
  {
   "cell_type": "code",
   "execution_count": 6,
   "source": [
    "import torch as T\r\n",
    "from log_regression import MyOwnLogisticRegression"
   ],
   "outputs": [],
   "metadata": {}
  },
  {
   "cell_type": "code",
   "execution_count": 7,
   "source": [
    "x = data.drop(['PRES'], axis=1)\r\n",
    "y = data['PRES']\r\n",
    "\r\n",
    "# установим random_state, чтобы результаты эксперимента были воспроизводимы\r\n",
    "x_train, x_test, y_train, y_test = train_test_split(x, y, test_size=0.33, random_state=42)"
   ],
   "outputs": [],
   "metadata": {}
  },
  {
   "cell_type": "code",
   "execution_count": 8,
   "source": [
    "x_train_tenzor = T.tensor(x_train.to_numpy(), dtype=T.float32).to(device)\r\n",
    "y_train_tenzor = T.tensor(y_train.to_numpy(), dtype=T.long).to(device)\r\n",
    "\r\n",
    "\r\n",
    "x_test_tenzor = T.tensor(x_test.to_numpy(), dtype=T.float32).to(device)\r\n",
    "y_test_tenzor = T.tensor(y_test.to_numpy(), dtype=T.long).to(device)\r\n",
    "\r\n",
    "num_of_features = x_train_tenzor.size()[1]"
   ],
   "outputs": [],
   "metadata": {}
  },
  {
   "cell_type": "code",
   "execution_count": 9,
   "source": [
    "own_log_regression = MyOwnLogisticRegression(num_of_features)\r\n",
    "times = 20\r\n",
    "w, b = own_log_regression.fit(times, x_train_tenzor, y_train_tenzor)"
   ],
   "outputs": [
    {
     "output_type": "stream",
     "name": "stdout",
     "text": [
      "epoch =    0    loss = 0.2524\n",
      "epoch =    5    loss = 0.0983\n"
     ]
    }
   ],
   "metadata": {}
  },
  {
   "cell_type": "code",
   "execution_count": 10,
   "source": [
    "x_test_tenzor = T.tensor(x_test.to_numpy(), dtype=T.float32).to(device)\r\n",
    "predicts = own_log_regression.predictions(x_test_tenzor)"
   ],
   "outputs": [],
   "metadata": {}
  },
  {
   "cell_type": "code",
   "execution_count": 14,
   "source": [
    "error_own_method = mean_squared_error(predicts, y_test)\r\n",
    "print(\"mean_squared_error_own_class =\", error_own_method)"
   ],
   "outputs": [
    {
     "output_type": "stream",
     "name": "stdout",
     "text": [
      "mean_squared_error_own_class = 0.08169279195759943\n"
     ]
    }
   ],
   "metadata": {}
  },
  {
   "cell_type": "code",
   "execution_count": null,
   "source": [],
   "outputs": [],
   "metadata": {}
  }
 ],
 "metadata": {
  "orig_nbformat": 4,
  "language_info": {
   "name": "python",
   "version": "3.8.5",
   "mimetype": "text/x-python",
   "codemirror_mode": {
    "name": "ipython",
    "version": 3
   },
   "pygments_lexer": "ipython3",
   "nbconvert_exporter": "python",
   "file_extension": ".py"
  },
  "kernelspec": {
   "name": "python3",
   "display_name": "Python 3.8.5 64-bit (system)"
  },
  "interpreter": {
   "hash": "63935a4ebb5f63c50eee506acd6e5a674a9a7ecdbc5bf1518389696c4a80f62e"
  }
 },
 "nbformat": 4,
 "nbformat_minor": 2
}